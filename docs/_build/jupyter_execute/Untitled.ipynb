{
 "cells": [
  {
   "cell_type": "code",
   "execution_count": 1,
   "id": "0b420c42",
   "metadata": {},
   "outputs": [
    {
     "name": "stdout",
     "output_type": "stream",
     "text": [
      "Usage: jupyter-book [OPTIONS] COMMAND [ARGS]...\n",
      "\n",
      "  Build and manage books with Jupyter.\n",
      "\n",
      "Options:\n",
      "  --version   Show the version and exit.\n",
      "  -h, --help  Show this message and exit.\n",
      "\n",
      "Commands:\n",
      "  build   Convert your book's or page's content to HTML or a PDF.\n",
      "  clean   Empty the _build directory except jupyter_cache.\n",
      "  config  Inspect your _config.yml file.\n",
      "  create  Create a Jupyter Book template that you can customize.\n",
      "  myst    Manipulate MyST markdown files.\n",
      "  toc     Command-line for sphinx-external-toc.\n"
     ]
    }
   ],
   "source": [
    "!jupyter-book"
   ]
  },
  {
   "cell_type": "code",
   "execution_count": null,
   "id": "2aa041e7",
   "metadata": {},
   "outputs": [],
   "source": []
  }
 ],
 "metadata": {
  "kernelspec": {
   "display_name": "lineage-py38",
   "language": "python",
   "name": "myenv"
  },
  "language_info": {
   "codemirror_mode": {
    "name": "ipython",
    "version": 3
   },
   "file_extension": ".py",
   "mimetype": "text/x-python",
   "name": "python",
   "nbconvert_exporter": "python",
   "pygments_lexer": "ipython3",
   "version": "3.8.16"
  }
 },
 "nbformat": 4,
 "nbformat_minor": 5
}